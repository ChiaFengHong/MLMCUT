{
  "nbformat": 4,
  "nbformat_minor": 0,
  "metadata": {
    "colab": {
      "name": "01.basic_nlp.ipynb",
      "version": "0.3.2",
      "provenance": [],
      "collapsed_sections": [],
      "include_colab_link": true
    },
    "kernelspec": {
      "name": "python3",
      "display_name": "Python 3"
    }
  },
  "cells": [
    {
      "cell_type": "markdown",
      "metadata": {
        "id": "view-in-github",
        "colab_type": "text"
      },
      "source": [
        "<a href=\"https://colab.research.google.com/github/ChiaFengHong/MLMCUT/blob/master/01_basic_nlp.ipynb\" target=\"_parent\"><img src=\"https://colab.research.google.com/assets/colab-badge.svg\" alt=\"Open In Colab\"/></a>"
      ]
    },
    {
      "cell_type": "code",
      "metadata": {
        "id": "BKCKXCpEkFbh",
        "colab_type": "code",
        "colab": {}
      },
      "source": [
        "s = \"\"\"全球籠罩在華為禁止令低氣壓之下，外商半導體業者無奈與哀嚎，痛失中國手機龍頭訂單之際，身為華為晶片主要製造商台積電，不僅說出對客戶出口維持不變現況，亦老神在在點明：第2季營收財測目標不變、下半年強勁成長看法不變、2019全年營運微幅成長目標不變。篤定說出三項不變，台積電的自信從哪邊來的？\n",
        "\n",
        "台積電2019年技術論壇會後，資深副總經理暨財務長何麗梅指出，近期客戶需求沒有特別變化，第2季營收財測目標不會改變，下半年營運強勁成長及全年營運微幅成長目標也不變。華為風暴下，台積電三大自信背後，其實來自三大原因。（延伸閱讀：華為風暴 台系鏈二壞一好）\n",
        "\n",
        "首先上一季投片於本季開始產出，台積電7奈米先進製程開始加溫，且第1季受光阻液瑕疵影響的晶圓在第2季補出貨給客戶，相當確定第2季營運將優於上一季；此外，台積電第2季匯率假設基準在1美元兌30.85元新台幣，近期新台幣大幅貶值，台幣營收將高於預期水準。\n",
        "\n",
        "台積電下半年有兩大客戶護身，首先是超微新款伺服器處理器及Zen 2架構Ryzen處理器於本季開始投片，加上高通及聯發科等手機處理器晶片相繼增加對7奈米投片量。\n",
        "\n",
        "另外，最重要客戶蘋果A13處理器確定由台積電一家獨吃，也於第2季下旬開始投片試產，可預期第3季相繼進入出貨高峰期，下半年強勁成長有所本。\n",
        "\n",
        "而華為事件可能導致供應鏈成員對台積電下單轉趨保守，但亦有可能產生排擠效應，華為供應鏈下單少一點，但其他品牌市佔拉高，供應鏈下單卻又多了一點，一來一往相互抵銷負面衝擊。\n",
        "\n",
        "正如台積電所言，台積電是大家的晶圓代工廠，先進製程技術是客戶所需要的，2019全年營運微幅成長且高於整體晶圓代工產業的平均水平，自然有相當把握。\n",
        "\n",
        "不過，先前機台中毒及光阻劑瑕疵事件，讓法人圈對台積電產生信心危機，部分法人指出，華為風暴能否全身而退仍有疑慮，第3季下修財測可能高，後續仍需觀察貿易戰後勢變化。\"\"\""
      ],
      "execution_count": 0,
      "outputs": []
    },
    {
      "cell_type": "code",
      "metadata": {
        "id": "3Di4t-MttK2W",
        "colab_type": "code",
        "outputId": "0002abad-7513-40f4-e5f0-9c5fdc886deb",
        "colab": {
          "base_uri": "https://localhost:8080/",
          "height": 54
        }
      },
      "source": [
        "s"
      ],
      "execution_count": 0,
      "outputs": [
        {
          "output_type": "execute_result",
          "data": {
            "text/plain": [
              "'全球籠罩在華為禁止令低氣壓之下，外商半導體業者無奈與哀嚎，痛失中國手機龍頭訂單之際，身為華為晶片主要製造商台積電，不僅說出對客戶出口維持不變現況，亦老神在在點明：第2季營收財測目標不變、下半年強勁成長看法不變、2019全年營運微幅成長目標不變。篤定說出三項不變，台積電的自信從哪邊來的？\\n\\n台積電2019年技術論壇會後，資深副總經理暨財務長何麗梅指出，近期客戶需求沒有特別變化，第2季營收財測目標不會改變，下半年營運強勁成長及全年營運微幅成長目標也不變。華為風暴下，台積電三大自信背後，其實來自三大原因。（延伸閱讀：華為風暴 台系鏈二壞一好）\\n\\n首先上一季投片於本季開始產出，台積電7奈米先進製程開始加溫，且第1季受光阻液瑕疵影響的晶圓在第2季補出貨給客戶，相當確定第2季營運將優於上一季；此外，台積電第2季匯率假設基準在1美元兌30.85元新台幣，近期新台幣大幅貶值，台幣營收將高於預期水準。\\n\\n台積電下半年有兩大客戶護身，首先是超微新款伺服器處理器及Zen 2架構Ryzen處理器於本季開始投片，加上高通及聯發科等手機處理器晶片相繼增加對7奈米投片量。\\n\\n另外，最重要客戶蘋果A13處理器確定由台積電一家獨吃，也於第2季下旬開始投片試產，可預期第3季相繼進入出貨高峰期，下半年強勁成長有所本。\\n\\n而華為事件可能導致供應鏈成員對台積電下單轉趨保守，但亦有可能產生排擠效應，華為供應鏈下單少一點，但其他品牌市佔拉高，供應鏈下單卻又多了一點，一來一往相互抵銷負面衝擊。\\n\\n正如台積電所言，台積電是大家的晶圓代工廠，先進製程技術是客戶所需要的，2019全年營運微幅成長且高於整體晶圓代工產業的平均水平，自然有相當把握。\\n\\n不過，先前機台中毒及光阻劑瑕疵事件，讓法人圈對台積電產生信心危機，部分法人指出，華為風暴能否全身而退仍有疑慮，第3季下修財測可能高，後續仍需觀察貿易戰後勢變化。'"
            ]
          },
          "metadata": {
            "tags": []
          },
          "execution_count": 2
        }
      ]
    },
    {
      "cell_type": "code",
      "metadata": {
        "id": "M76ou5UptXWR",
        "colab_type": "code",
        "outputId": "b02af4b3-40e9-4f26-f71a-ff4d215759a5",
        "colab": {
          "base_uri": "https://localhost:8080/",
          "height": 119
        }
      },
      "source": [
        "!pip install jieba\n",
        "from jieba.analyse import extract_tags\n",
        "extract_tags(s, 10)"
      ],
      "execution_count": 0,
      "outputs": [
        {
          "output_type": "stream",
          "text": [
            "Requirement already satisfied: jieba in /usr/local/lib/python3.6/dist-packages (0.39)\n"
          ],
          "name": "stdout"
        },
        {
          "output_type": "stream",
          "text": [
            "Building prefix dict from the default dictionary ...\n",
            "Dumping model to file cache /tmp/jieba.cache\n",
            "Loading model cost 1.040 seconds.\n",
            "Prefix dict has been built succesfully.\n"
          ],
          "name": "stderr"
        },
        {
          "output_type": "execute_result",
          "data": {
            "text/plain": [
              "['華為', '不變', '成長', '台積', '客戶', '目標', '台積電', '理器', '財測', '2019']"
            ]
          },
          "metadata": {
            "tags": []
          },
          "execution_count": 5
        }
      ]
    },
    {
      "cell_type": "code",
      "metadata": {
        "id": "WR_vgqbWxk0j",
        "colab_type": "code",
        "outputId": "7d16b8b0-3df8-4de6-a1d6-97f8bdf33183",
        "colab": {
          "base_uri": "https://localhost:8080/",
          "height": 54
        }
      },
      "source": [
        "from jieba import cut\n",
        "result = cut(s)\n",
        "\" \".join(result)"
      ],
      "execution_count": 0,
      "outputs": [
        {
          "output_type": "execute_result",
          "data": {
            "text/plain": [
              "'全球 籠罩 在 華為 禁止令 低氣壓 之下 ， 外商 半導 體業者 無奈 與 哀嚎 ， 痛失 中國手 機龍頭訂 單之際 ， 身為 華為 晶片 主要 製 造 商 台 積 電 ， 不僅 說 出 對 客戶 出口 維持 不變 現況 ， 亦 老神在在 點明 ： 第 2 季營收 財測 目標 不變 、 下半年 強勁 成長 看法 不變 、 2019 全年 營運 微幅 成長 目標 不變 。 篤定 說 出三項 不變 ， 台積電 的 自信 從 哪邊 來 的 ？ \\n \\n 台積電 2019 年 技術 論壇 會 後 ， 資深 副 總經理 暨 財務長 何麗梅 指出 ， 近期 客戶 需求 沒有 特別 變化 ， 第 2 季營收 財測 目標 不會 改變 ， 下半年 營運強 勁 成長 及 全年 營運 微幅 成長 目標 也 不變 。 華為 風暴 下 ， 台積 電三大 自信 背 後 ， 其實來 自三大 原因 。 （ 延伸 閱讀 ： 華為 風暴   台系 鏈二壞 一好 ） \\n \\n 首先 上 一季 投片 於 本季 開始 產出 ， 台積電 7 奈米 先 進 製 程 開 始 加 溫 ， 且 第 1 季受 光 阻液 瑕疵 影響 的 晶圓 在 第 2 季補出 貨給 客戶 ， 相當 確定 第 2 季營 運將 優 於 上 一季 ； 此外 ， 台積 電第 2 季匯率 假設 基準 在 1 美元 兌 30.85 元新 台幣 ， 近期 新台幣 大幅 貶值 ， 台幣營 收將 高 於 預期 水準 。 \\n \\n 台積電 下半年 有 兩大客 戶護身 ， 首先 是 超微 新款 伺服器 處 理器 及 Zen   2 架構 Ryzen 處 理器 於 本季 開始 投片 ， 加上 高通 及聯 發科 等 手 機處 理器 晶片 相繼 增加 對 7 奈米 投片量 。 \\n \\n 另外 ， 最 重要 客戶 蘋果 A13 處 理器 確定 由 台 積電 一家 獨吃 ， 也 於 第 2 季 下旬 開始 投片 試產 ， 可 預期 第 3 季相繼 進入 出貨 高峰期 ， 下半年 強勁 成長 有所 本 。 \\n \\n 而華為 事件 可能 導致 供 應鏈 成員 對 台積 電下 單轉 趨 保守 ， 但 亦 有 可能 產生 排擠 效應 ， 華為 供應 鏈下 單少 一點 ， 但 其他 品牌 市 佔 拉高 ， 供應鏈 下單 卻 又 多 了 一點 ， 一來 一往 相互 抵銷 負面 衝擊 。 \\n \\n 正如 台積 電所言 ， 台積 電是 大家 的 晶圓 代工 廠 ， 先 進 製 程 技 術 是 客 戶 所 需要 的 ， 2019 全年 營運 微幅 成長 且 高 於 整體 晶圓 代工 產業 的 平均水平 ， 自然 有 相當 把握 。 \\n \\n 不過 ， 先前 機台 中毒 及光 阻劑 瑕疵 事件 ， 讓 法人 圈 對 台積 電產生 信心 危機 ， 部分 法人 指出 ， 華為 風暴 能否 全身而退 仍有 疑慮 ， 第 3 季下 修 財測 可能 高 ， 後 續 仍 需 觀察貿易 戰後勢 變化 。'"
            ]
          },
          "metadata": {
            "tags": []
          },
          "execution_count": 12
        }
      ]
    },
    {
      "cell_type": "code",
      "metadata": {
        "id": "aU52UsCJzH-u",
        "colab_type": "code",
        "outputId": "b9f51e36-1383-4ca9-924f-85782fc79fa5",
        "colab": {
          "base_uri": "https://localhost:8080/",
          "height": 122
        }
      },
      "source": [
        "from urllib.request import urlretrieve\n",
        "from jieba import set_dictionary, add_word\n",
        "url = \"https://github.com/fxsjy/jieba/raw/master/extra_dict/dict.txt.big\"\n",
        "urlretrieve(url,'dict.txt.big')\n",
        "set_dictionary('dict.txt.big')\n",
        "result = cut(s)\n",
        "\" \".join(result)"
      ],
      "execution_count": 0,
      "outputs": [
        {
          "output_type": "stream",
          "text": [
            "Building prefix dict from /content/dict.txt.big ...\n",
            "Dumping model to file cache /tmp/jieba.u501edca284da514cb68b53a20324f4e3.cache\n",
            "Loading model cost 1.750 seconds.\n",
            "Prefix dict has been built succesfully.\n"
          ],
          "name": "stderr"
        },
        {
          "output_type": "execute_result",
          "data": {
            "text/plain": [
              "'全球 籠罩 在 華為 禁止令 低氣壓 之下 ， 外商 半導體 業者 無奈 與 哀嚎 ， 痛失 中國 手機 龍頭 訂單 之際 ， 身為 華為 晶片 主要 製造商 台積電 ， 不僅 說出 對 客戶 出口 維持 不變 現況 ， 亦 老神在在 點明 ： 第 2 季營收 財測 目標 不變 、 下半年 強勁 成長 看法 不變 、 2019 全年 營運 微幅 成長 目標 不變 。 篤定 說出 三項 不變 ， 台積電 的 自信 從 哪邊 來 的 ？ \\n \\n 台積電 2019 年 技術論壇 會後 ， 資深 副總經理 暨 財務 長 何麗梅 指出 ， 近期 客戶 需求 沒有 特別 變化 ， 第 2 季營收 財測 目標 不會 改變 ， 下半年 營運 強勁 成長 及 全年 營運 微幅 成長 目標 也 不變 。 華為 風暴 下 ， 台積 電三大 自信 背後 ， 其實 來自 三大 原因 。 （ 延伸 閱讀 ： 華為 風暴   台 系鏈 二壞 一好 ） \\n \\n 首先 上 一季 投片 於 本季 開始 產出 ， 台積電 7 奈米 先進 製程 開始 加溫 ， 且 第 1 季受 光 阻液 瑕疵 影響 的 晶圓 在 第 2 季補 出貨 給 客戶 ， 相當 確定 第 2 季 營運 將 優於 上 一季 ； 此外 ， 台積 電第 2 季 匯率 假設 基準 在 1 美元兌 30.85 元新 台幣 ， 近期 新台幣 大幅 貶值 ， 台幣營 收將 高於 預期 水準 。 \\n \\n 台積電 下半年 有 兩大 客戶 護身 ， 首先 是 超微 新款 伺服器 處理器 及 Zen   2 架構 Ryzen 處理器 於 本季 開始 投片 ， 加上 高通 及聯 發科 等 手機 處理器 晶片 相繼 增加 對 7 奈米 投片量 。 \\n \\n 另外 ， 最 重要 客戶 蘋果 A13 處理器 確定 由台 積電 一家 獨吃 ， 也 於 第 2 季 下旬 開始 投片 試產 ， 可 預期 第 3 季 相繼 進入 出貨 高峰期 ， 下半年 強勁 成長 有所 本 。 \\n \\n 而華為 事件 可能 導致 供應鏈 成員 對台 積電 下單 轉趨 保守 ， 但 亦 有 可能 產生 排擠 效應 ， 華為 供應鏈 下單 少 一點 ， 但 其他 品牌 市 佔 拉高 ， 供應鏈 下單 卻 又 多 了 一點 ， 一來一往 相互 抵銷 負面 衝擊 。 \\n \\n 正如 台積 電所言 ， 台積 電是 大家 的 晶圓 代工廠 ， 先進 製程 技術 是 客戶 所 需要 的 ， 2019 全年 營運 微幅 成長 且 高於 整體 晶圓 代工 產業 的 平均水平 ， 自然 有 相當 把握 。 \\n \\n 不過 ， 先前 機台 中毒 及光 阻劑 瑕疵 事件 ， 讓 法人 圈 對 台 積電 產生 信心危機 ， 部分 法人 指出 ， 華為 風暴 能否 全身而退 仍 有 疑慮 ， 第 3 季下 修 財測 可能 高 ， 後續 仍 需 觀察 貿易 戰後 勢 變化 。'"
            ]
          },
          "metadata": {
            "tags": []
          },
          "execution_count": 18
        }
      ]
    },
    {
      "cell_type": "code",
      "metadata": {
        "id": "PS59JIGN0MQ_",
        "colab_type": "code",
        "outputId": "f537492a-7794-464f-c036-652e52f365e6",
        "colab": {
          "base_uri": "https://localhost:8080/",
          "height": 34
        }
      },
      "source": [
        "extract_tags(s, 10)"
      ],
      "execution_count": 0,
      "outputs": [
        {
          "output_type": "execute_result",
          "data": {
            "text/plain": [
              "['華為', '客戶', '不變', '成長', '台積電', '營運', '目標', '台積', '開始', '處理器']"
            ]
          },
          "metadata": {
            "tags": []
          },
          "execution_count": 17
        }
      ]
    }
  ]
}